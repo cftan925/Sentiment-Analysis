{
 "cells": [
  {
   "cell_type": "markdown",
   "metadata": {},
   "source": [
    "# CPC353 Assignment 2\n",
    "#### Name: Tan Chi Feng\n",
    "#### Matric No: 147515"
   ]
  },
  {
   "cell_type": "markdown",
   "metadata": {},
   "source": [
    "Firstly, we will import all the libraries and packages needed."
   ]
  },
  {
   "cell_type": "code",
   "execution_count": 1,
   "metadata": {},
   "outputs": [],
   "source": [
    "import os\n",
    "import sys\n",
    "import numpy as np\n",
    "import re\n",
    "import string\n",
    "\n",
    "import tensorflow as tf\n",
    "from tensorflow.keras.models import Sequential\n",
    "from tensorflow.keras.layers import Dense, Dropout, LSTM, Flatten, Bidirectional\n",
    "from tensorflow.keras.preprocessing.text import Tokenizer\n",
    "from tensorflow.keras.preprocessing.sequence import pad_sequences\n",
    "from tensorflow.keras.optimizers import Adam, SGD\n",
    "from tensorflow.keras.utils import to_categorical\n",
    "import matplotlib.pyplot as plt"
   ]
  },
  {
   "cell_type": "markdown",
   "metadata": {},
   "source": [
    "# Data Preparation\n",
    "Reading the train.csv, validation.csv and test.csv dataset into data frame with pandas packages."
   ]
  },
  {
   "cell_type": "code",
   "execution_count": 2,
   "metadata": {},
   "outputs": [],
   "source": [
    "import pandas as pd\n",
    "\n",
    "training_data = pd.read_csv(\"/Volumes/GoogleDrive/My Drive/School of Computer Science/Year 3/Semester 1/4. CPC353 Natural Language Processing/Assignment/Assignment 2/sentiment/train.csv\", header=None)\n",
    "val_data = pd.read_csv(\"/Volumes/GoogleDrive/My Drive/School of Computer Science/Year 3/Semester 1/4. CPC353 Natural Language Processing/Assignment/Assignment 2/sentiment/validation.csv\", header=None)\n",
    "test_data = pd.read_csv(\"/Volumes/GoogleDrive/My Drive/School of Computer Science/Year 3/Semester 1/4. CPC353 Natural Language Processing/Assignment/Assignment 2/sentiment/test.csv\", header=None)"
   ]
  },
  {
   "cell_type": "markdown",
   "metadata": {},
   "source": [
    "Renaming the columns of training, validation and test data frame to appropriate column name."
   ]
  },
  {
   "cell_type": "code",
   "execution_count": 3,
   "metadata": {},
   "outputs": [],
   "source": [
    "# Rename the columns\n",
    "training_data.columns = ['Headlines', 'Sentiment']\n",
    "val_data.columns = ['Headlines', 'Sentiment']\n",
    "test_data.columns = ['Headlines', 'Sentiment']"
   ]
  },
  {
   "cell_type": "markdown",
   "metadata": {},
   "source": [
    "Data Cleaning and Preprocessing: Performing stopword removal on all datasets. HTML tags like \"<\" and \">\" will also be removed."
   ]
  },
  {
   "cell_type": "code",
   "execution_count": 4,
   "metadata": {},
   "outputs": [],
   "source": [
    "stopwords = [ \"a\", \"about\", \"above\", \"after\", \"again\", \"against\", \"all\", \"am\", \"an\", \"and\", \"any\", \"are\", \"as\", \"at\", \"be\", \"because\", \n",
    "             \"been\", \"before\", \"being\", \"below\", \"between\", \"both\", \"but\", \"by\", \"could\", \"did\", \"do\", \"does\", \"doing\", \"down\", \"during\",\n",
    "             \"each\", \"few\", \"for\", \"from\", \"further\", \"had\", \"has\", \"have\", \"having\", \"he\", \"he'd\", \"he'll\", \"he's\", \"her\", \"here\", \n",
    "             \"here's\", \"hers\", \"herself\", \"him\", \"himself\", \"his\", \"how\", \"how's\", \"i\", \"i'd\", \"i'll\", \"i'm\", \"i've\", \"if\", \"in\", \"into\",\n",
    "             \"is\", \"it\", \"it's\", \"its\", \"itself\", \"let's\", \"me\", \"more\", \"most\", \"my\", \"myself\", \"nor\", \"of\", \"on\", \"once\", \"only\", \"or\",\n",
    "             \"other\", \"ought\", \"our\", \"ours\", \"ourselves\", \"out\", \"over\", \"own\", \"same\", \"she\", \"she'd\", \"she'll\", \"she's\", \"should\", \n",
    "             \"so\", \"some\", \"such\", \"than\", \"that\", \"that's\", \"the\", \"their\", \"theirs\", \"them\", \"themselves\", \"then\", \"there\", \"there's\",\n",
    "             \"these\", \"they\", \"they'd\", \"they'll\", \"they're\", \"they've\", \"this\", \"those\", \"through\", \"to\", \"too\", \"under\", \"until\", \"up\",\n",
    "             \"very\", \"was\", \"we\", \"we'd\", \"we'll\", \"we're\", \"we've\", \"were\", \"what\", \"what's\", \"when\", \"when's\", \"where\", \"where's\",\n",
    "             \"which\", \"while\", \"who\", \"who's\", \"whom\", \"why\", \"why's\", \"with\", \"would\", \"you\", \"you'd\", \"you'll\", \"you're\", \"you've\",\n",
    "             \"your\", \"yours\", \"yourself\", \"yourselves\" ]"
   ]
  },
  {
   "cell_type": "code",
   "execution_count": 51,
   "metadata": {},
   "outputs": [
    {
     "name": "stderr",
     "output_type": "stream",
     "text": [
      "/var/folders/c_/9cqyc6w948j02tgk3jpzkpvc0000gn/T/ipykernel_4297/423224487.py:11: FutureWarning: The default value of regex will change from True to False in a future version.\n",
      "  training_data['Headlines'] = training_data['Headlines'].str.replace('[{}]'.format(string.punctuation), ' ')\n",
      "/var/folders/c_/9cqyc6w948j02tgk3jpzkpvc0000gn/T/ipykernel_4297/423224487.py:15: FutureWarning: The default value of regex will change from True to False in a future version.\n",
      "  val_data['Headlines'] = val_data['Headlines'].str.replace('[{}]'.format(string.punctuation), ' ')\n",
      "/var/folders/c_/9cqyc6w948j02tgk3jpzkpvc0000gn/T/ipykernel_4297/423224487.py:19: FutureWarning: The default value of regex will change from True to False in a future version.\n",
      "  test_data['Headlines'] = test_data['Headlines'].str.replace('[{}]'.format(string.punctuation), ' ')\n"
     ]
    }
   ],
   "source": [
    "def remv_stopwords(data):\n",
    "  data['Headlines'] = data['Headlines'].apply(lambda x : ' '.join([word for word in x.split() if word not in (stopwords)]))\n",
    "  return data\n",
    "\n",
    "def remv_htmltags(string):\n",
    "    result = re.sub('<.*?>','',string)\n",
    "    return result\n",
    "    \n",
    "training_data = remv_stopwords(training_data)\n",
    "training_data['Headlines']= training_data['Headlines'].apply(lambda cw : remv_htmltags(cw))\n",
    "training_data['Headlines'] = training_data['Headlines'].str.replace('[{}]'.format(string.punctuation), ' ')\n",
    "\n",
    "val_data = remv_stopwords(val_data)\n",
    "val_data['Headlines']= val_data['Headlines'].apply(lambda cw : remv_htmltags(cw))\n",
    "val_data['Headlines'] = val_data['Headlines'].str.replace('[{}]'.format(string.punctuation), ' ')\n",
    "\n",
    "test_data = remv_stopwords(test_data)\n",
    "test_data['Headlines']= test_data['Headlines'].apply(lambda cw : remv_htmltags(cw))\n",
    "test_data['Headlines'] = test_data['Headlines'].str.replace('[{}]'.format(string.punctuation), ' ')"
   ]
  },
  {
   "cell_type": "markdown",
   "metadata": {},
   "source": [
    "# Building Dictionary Using Pretrained Word Vectors from GloVe\n",
    "Building a dictionary named \"embeddings_index\" by using the pretrained word vectors obtained from https://nlp.stanford.edu/projects/glove/ (specifically the 'glove.6B.300d.txt').\n",
    "\n",
    "Since it is a dictionary, for instance, if we call embeddings_index['the'], since we supply the key 'the' to the dictionary, the dictionary will return the corresponding word vector that associate with the word 'the'."
   ]
  },
  {
   "cell_type": "code",
   "execution_count": 6,
   "metadata": {},
   "outputs": [
    {
     "name": "stderr",
     "output_type": "stream",
     "text": [
      "2022-01-29 19:09:34.912949: I tensorflow/core/common_runtime/pluggable_device/pluggable_device_factory.cc:305] Could not identify NUMA node of platform GPU ID 0, defaulting to 0. Your kernel may not have been built with NUMA support.\n",
      "2022-01-29 19:09:34.913071: I tensorflow/core/common_runtime/pluggable_device/pluggable_device_factory.cc:271] Created TensorFlow device (/job:localhost/replica:0/task:0/device:GPU:0 with 0 MB memory) -> physical PluggableDevice (device: 0, name: METAL, pci bus id: <undefined>)\n"
     ]
    },
    {
     "name": "stdout",
     "output_type": "stream",
     "text": [
      "Metal device set to: Apple M1 Pro\n",
      "\n",
      "systemMemory: 16.00 GB\n",
      "maxCacheSize: 5.33 GB\n",
      "\n",
      "There are a total of 400000 word vectors found in glove.6B.300d.txt.\n"
     ]
    }
   ],
   "source": [
    "with tf.device('/cpu:0'):\n",
    "    working_dir = \"/Volumes/GoogleDrive/My Drive/School of Computer Science/Year 3/Semester 1/4. CPC353 Natural Language Processing/Assignment/Assignment 2\"\n",
    "\n",
    "    embeddings_index = {}\n",
    "\n",
    "    with open(os.path.join(working_dir, 'glove.6B.300d.txt')) as file:\n",
    "        for line in file:\n",
    "            word, coefs = line.split(maxsplit=1)\n",
    "            coefs = np.fromstring(coefs, 'f', sep=' ')\n",
    "            embeddings_index[word] = coefs\n",
    "\n",
    "    print('There are a total of %s word vectors found in glove.6B.300d.txt.' % len(embeddings_index))"
   ]
  },
  {
   "cell_type": "markdown",
   "metadata": {},
   "source": [
    "### Testing the dictonary."
   ]
  },
  {
   "cell_type": "code",
   "execution_count": 7,
   "metadata": {
    "scrolled": true
   },
   "outputs": [
    {
     "data": {
      "text/plain": [
       "array([-0.074607 , -0.11633  ,  0.36245  ,  0.36715  , -0.76794  ,\n",
       "       -0.30341  , -0.18367  ,  0.13902  ,  0.36768  , -1.1403   ,\n",
       "        0.15194  , -0.58007  , -0.11208  , -0.076548 ,  0.090214 ,\n",
       "        0.43275  ,  0.024418 ,  0.20571  ,  0.23143  , -0.62702  ,\n",
       "       -0.32204  ,  0.17888  ,  0.18504  , -0.014398 ,  0.015564 ,\n",
       "        0.5972   ,  0.070547 , -0.049865 ,  0.13624  , -0.62059  ,\n",
       "       -0.27566  ,  0.12168  ,  0.075928 ,  0.12725  , -0.19275  ,\n",
       "        0.23169  ,  0.87206  ,  0.55183  , -0.39115  , -0.54558  ,\n",
       "       -0.03112  , -0.60598  , -0.046408 ,  0.11338  ,  0.046661 ,\n",
       "       -0.1819   , -0.28307  , -0.029926 , -0.46608  , -0.39512  ,\n",
       "       -0.16182  ,  0.38471  , -0.16378  ,  0.25356  ,  0.10304  ,\n",
       "        1.0363   ,  0.2292   ,  0.43539  ,  0.17291  ,  0.060108 ,\n",
       "       -0.19593  ,  0.32616  , -0.02618  ,  0.59961  ,  0.42063  ,\n",
       "       -0.17343  , -0.46433  , -0.010907 , -0.013383 , -0.3362   ,\n",
       "       -0.1653   , -0.1498   ,  0.16513  ,  0.38764  ,  0.25905  ,\n",
       "       -0.33554  ,  0.66784  ,  0.056679 , -0.21026  ,  0.014089 ,\n",
       "        0.68027  ,  0.11919  ,  0.10883  ,  0.44258  ,  0.29052  ,\n",
       "       -0.16496  ,  0.14129  , -0.029832 ,  0.30671  , -0.54124  ,\n",
       "       -0.27288  ,  0.057294 ,  0.0053464,  0.088504 ,  0.58858  ,\n",
       "        0.33588  ,  0.66256  , -0.11373  ,  0.41703  ,  0.13387  ,\n",
       "       -0.14354  , -0.25158  , -0.08539  ,  0.39979  , -0.32878  ,\n",
       "       -0.55514  ,  0.005086 ,  0.71909  , -0.55469  , -0.19166  ,\n",
       "        0.49258  , -0.3775   , -0.36064  ,  0.31168  ,  0.34963  ,\n",
       "       -0.74003  , -0.32406  ,  0.29245  ,  0.15131  , -0.54421  ,\n",
       "       -0.58806  ,  0.56964  , -0.42826  , -0.29332  ,  0.065096 ,\n",
       "        0.12329  , -0.03723  ,  0.41874  ,  0.064789 , -0.50181  ,\n",
       "        0.10467  ,  0.18551  , -0.48539  , -0.18023  , -0.13604  ,\n",
       "       -0.23792  , -0.30716  ,  0.089975 , -0.21997  ,  0.14988  ,\n",
       "        0.2477   , -0.03896  ,  0.18853  ,  0.11371  , -0.28524  ,\n",
       "        0.089947 ,  0.34867  , -0.46504  , -0.17638  , -0.26539  ,\n",
       "        0.8676   ,  0.163    ,  0.14858  ,  0.57848  ,  0.25363  ,\n",
       "        0.061022 ,  0.032708 ,  0.22244  ,  0.20512  ,  0.42807  ,\n",
       "       -0.25849  ,  0.11318  ,  0.18252  , -0.28878  , -0.87194  ,\n",
       "        0.070071 ,  0.10232  ,  0.38745  , -0.043303 , -0.32022  ,\n",
       "        0.23017  ,  0.016    ,  0.069434 ,  0.070304 , -0.54901  ,\n",
       "        0.58147  , -0.23338  , -0.19504  ,  0.29655  , -0.090647 ,\n",
       "       -0.47611  ,  0.97886  , -0.50177  , -0.15556  ,  0.018451 ,\n",
       "        0.036631 , -0.96732  ,  0.080171 ,  0.27474  ,  0.070227 ,\n",
       "        0.59437  ,  0.14158  , -0.015643 ,  0.57445  , -0.51938  ,\n",
       "        0.85087  ,  0.68062  ,  0.47301  ,  0.61039  ,  0.26126  ,\n",
       "       -0.23295  ,  0.028962 , -0.023033 ,  0.20304  , -0.20408  ,\n",
       "       -0.16479  , -0.033312 , -0.34634  ,  0.13468  , -0.81895  ,\n",
       "        0.035214 , -0.6338   ,  0.23823  , -0.29739  ,  0.15816  ,\n",
       "        0.13193  , -0.19893  ,  0.049483 , -0.0578   , -0.39779  ,\n",
       "       -0.53491  , -0.36789  , -0.010635 ,  0.12455  , -0.0073848,\n",
       "        0.42147  , -0.037252 ,  0.058839 , -0.31535  ,  0.42568  ,\n",
       "        0.2194   ,  0.70644  , -0.17702  , -0.071152 , -0.021385 ,\n",
       "        0.29789  , -0.54742  , -0.09134  , -0.54715  , -0.25311  ,\n",
       "       -0.080468 ,  0.06256  , -0.13273  ,  0.081047 ,  0.22316  ,\n",
       "        0.39903  ,  0.35689  , -0.11911  , -0.29616  ,  0.34441  ,\n",
       "        0.077568 , -0.022107 , -0.65886  ,  0.27857  ,  0.18289  ,\n",
       "        0.74735  ,  0.23643  ,  0.022309 , -0.11831  ,  0.18448  ,\n",
       "        0.32261  , -0.27672  , -0.24341  ,  0.25519  , -0.00431  ,\n",
       "       -0.43976  , -0.069488 ,  0.25329  ,  0.23438  ,  0.20805  ,\n",
       "       -0.011858 , -0.025976 ,  0.097872 , -0.94732  ,  0.35712  ,\n",
       "        0.26535  ,  0.15037  ,  0.018544 ,  0.24544  ,  0.45137  ,\n",
       "        0.049978 ,  0.27322  ,  0.047423 , -0.47301  ,  0.23662  ,\n",
       "        0.26852  ,  0.16216  , -0.32754  , -0.65663  ,  0.23684  ,\n",
       "       -0.30473  ,  0.092962 ,  0.25477  , -0.56423  , -0.4259   ,\n",
       "        0.53837  ,  0.47133  , -0.11482  ,  0.026594 ,  0.4013   ],\n",
       "      dtype=float32)"
      ]
     },
     "execution_count": 7,
     "metadata": {},
     "output_type": "execute_result"
    }
   ],
   "source": [
    "embeddings_index['dr']"
   ]
  },
  {
   "cell_type": "markdown",
   "metadata": {},
   "source": [
    "# Tokenizing Text Samples in Training Dataset\n",
    "We tokenize every row of headlines in the dataset and we assume that each row of headlines has a maximum of 100 words. \n",
    "\n",
    "Each unique word will be assigned a unique token, for instance, all the word \"increase\" will have a token \"678\". For \n",
    "\n",
    "headlines that have less 100 words, the remaining will be assigning a token \"0\"."
   ]
  },
  {
   "cell_type": "code",
   "execution_count": 56,
   "metadata": {},
   "outputs": [
    {
     "name": "stdout",
     "output_type": "stream",
     "text": [
      "There are 24357 unique tokens in the training dataset.\n",
      "Shape of data tensor: (61692, 100)\n",
      "Shape of label tensor: (61692, 3)\n"
     ]
    }
   ],
   "source": [
    "MAX_NUM_WORDS = 28000\n",
    "\n",
    "# Vectorizing the text samples into a 2D integer tensor\n",
    "tokenizer = Tokenizer(num_words=MAX_NUM_WORDS)\n",
    "tokenizer.fit_on_texts(training_data.Headlines[0:])\n",
    "sequences = tokenizer.texts_to_sequences(training_data.Headlines[0:])\n",
    "\n",
    "word_index = tokenizer.word_index\n",
    "print('There are %s unique tokens in the training dataset.' % len(word_index))\n",
    "\n",
    "MAX_SEQUENCE_LENGTH = 100\n",
    "\n",
    "data = pad_sequences(sequences, maxlen=MAX_SEQUENCE_LENGTH, dtype=object)\n",
    "\n",
    "labels = to_categorical(training_data.Sentiment - training_data.Sentiment.min())\n",
    "print('Shape of data tensor:', data.shape)\n",
    "print('Shape of label tensor:', labels.shape)"
   ]
  },
  {
   "cell_type": "markdown",
   "metadata": {},
   "source": [
    "For instance, the array “data” consist of all the tokenized words, data[0] which corresponds to the first row of headlines in the training data, will return 100 tokens, since we assume that all headlines will have a maximum of 100 words, empty space will be given token “0”. When we compare it to the first headline training data, we can see that the word “dr” has a token of “384”."
   ]
  },
  {
   "cell_type": "code",
   "execution_count": 57,
   "metadata": {},
   "outputs": [
    {
     "data": {
      "text/plain": [
       "array([0.0, 0.0, 0.0, 0.0, 0.0, 0.0, 0.0, 0.0, 0.0, 0.0, 0.0, 0.0, 0.0,\n",
       "       0.0, 0.0, 0.0, 0.0, 0.0, 0.0, 0.0, 0.0, 0.0, 0.0, 0.0, 0.0, 0.0,\n",
       "       0.0, 0.0, 0.0, 0.0, 0.0, 0.0, 0.0, 0.0, 0.0, 0.0, 0.0, 0.0, 0.0,\n",
       "       0.0, 0.0, 0.0, 0.0, 0.0, 0.0, 0.0, 0.0, 0.0, 0.0, 0.0, 0.0, 0.0,\n",
       "       0.0, 0.0, 0.0, 0.0, 0.0, 0.0, 0.0, 0.0, 0.0, 0.0, 0.0, 0.0, 0.0,\n",
       "       0.0, 0.0, 0.0, 0.0, 0.0, 0.0, 0.0, 0.0, 0.0, 0.0, 0.0, 0.0, 0.0,\n",
       "       0.0, 0.0, 0.0, 0.0, 0.0, 0.0, 0.0, 0.0, 0.0, 0.0, 0.0, 0.0, 0.0,\n",
       "       0.0, 382, 102, 228, 1198, 231, 4580, 2959, 2245], dtype=object)"
      ]
     },
     "execution_count": 57,
     "metadata": {},
     "output_type": "execute_result"
    }
   ],
   "source": [
    "data[0]"
   ]
  },
  {
   "cell_type": "code",
   "execution_count": 10,
   "metadata": {},
   "outputs": [
    {
     "data": {
      "text/html": [
       "<div>\n",
       "<style scoped>\n",
       "    .dataframe tbody tr th:only-of-type {\n",
       "        vertical-align: middle;\n",
       "    }\n",
       "\n",
       "    .dataframe tbody tr th {\n",
       "        vertical-align: top;\n",
       "    }\n",
       "\n",
       "    .dataframe thead th {\n",
       "        text-align: right;\n",
       "    }\n",
       "</style>\n",
       "<table border=\"1\" class=\"dataframe\">\n",
       "  <thead>\n",
       "    <tr style=\"text-align: right;\">\n",
       "      <th></th>\n",
       "      <th>Headlines</th>\n",
       "      <th>Sentiment</th>\n",
       "    </tr>\n",
       "  </thead>\n",
       "  <tbody>\n",
       "    <tr>\n",
       "      <th>0</th>\n",
       "      <td>Dr M now interim PM Agong accepts resignation</td>\n",
       "      <td>0</td>\n",
       "    </tr>\n",
       "    <tr>\n",
       "      <th>1</th>\n",
       "      <td>MMAG s M Jets targets annual cargo volume grow...</td>\n",
       "      <td>1</td>\n",
       "    </tr>\n",
       "    <tr>\n",
       "      <th>2</th>\n",
       "      <td>Civil servants will continue provide quality  ...</td>\n",
       "      <td>0</td>\n",
       "    </tr>\n",
       "    <tr>\n",
       "      <th>3</th>\n",
       "      <td>KLCI falls 0 76   tracks regional decline</td>\n",
       "      <td>-1</td>\n",
       "    </tr>\n",
       "    <tr>\n",
       "      <th>4</th>\n",
       "      <td>Anzo showing signs developing rebound  RHB Ret...</td>\n",
       "      <td>0</td>\n",
       "    </tr>\n",
       "    <tr>\n",
       "      <th>...</th>\n",
       "      <td>...</td>\n",
       "      <td>...</td>\n",
       "    </tr>\n",
       "    <tr>\n",
       "      <th>61687</th>\n",
       "      <td>ace market bound gdb holdings posts record fy1...</td>\n",
       "      <td>1</td>\n",
       "    </tr>\n",
       "    <tr>\n",
       "      <th>61688</th>\n",
       "      <td>bina puri titijaya re enter jv develop brickfi...</td>\n",
       "      <td>1</td>\n",
       "    </tr>\n",
       "    <tr>\n",
       "      <th>61689</th>\n",
       "      <td>high valuations put red sena spot</td>\n",
       "      <td>1</td>\n",
       "    </tr>\n",
       "    <tr>\n",
       "      <th>61690</th>\n",
       "      <td>klci pares gains  loses 0 73  global trade war...</td>\n",
       "      <td>-1</td>\n",
       "    </tr>\n",
       "    <tr>\n",
       "      <th>61691</th>\n",
       "      <td>malaysia airlines  rfi new generation widebody...</td>\n",
       "      <td>0</td>\n",
       "    </tr>\n",
       "  </tbody>\n",
       "</table>\n",
       "<p>61692 rows × 2 columns</p>\n",
       "</div>"
      ],
      "text/plain": [
       "                                               Headlines  Sentiment\n",
       "0          Dr M now interim PM Agong accepts resignation          0\n",
       "1      MMAG s M Jets targets annual cargo volume grow...          1\n",
       "2      Civil servants will continue provide quality  ...          0\n",
       "3              KLCI falls 0 76   tracks regional decline         -1\n",
       "4      Anzo showing signs developing rebound  RHB Ret...          0\n",
       "...                                                  ...        ...\n",
       "61687  ace market bound gdb holdings posts record fy1...          1\n",
       "61688  bina puri titijaya re enter jv develop brickfi...          1\n",
       "61689                  high valuations put red sena spot          1\n",
       "61690  klci pares gains  loses 0 73  global trade war...         -1\n",
       "61691  malaysia airlines  rfi new generation widebody...          0\n",
       "\n",
       "[61692 rows x 2 columns]"
      ]
     },
     "execution_count": 10,
     "metadata": {},
     "output_type": "execute_result"
    }
   ],
   "source": [
    "training_data"
   ]
  },
  {
   "cell_type": "markdown",
   "metadata": {},
   "source": [
    "# Building Embedding Matrix for Training Dataset\n",
    "Building an embedding matrix for each tokens in the training dataset by mapping each token to the corresponding word vectors in the \"embedding_index\" dictionary that we build.\n",
    "\n",
    "For instance, for the word 'dr', its token number is 384, by looking up to the dictionary, embeddings_index['dr'], a corresponding word vector of 300d will be returned and mapped to token '384'."
   ]
  },
  {
   "cell_type": "code",
   "execution_count": 11,
   "metadata": {},
   "outputs": [
    {
     "name": "stdout",
     "output_type": "stream",
     "text": [
      "Preparing embedding matrix.\n",
      "(24393, 300)\n"
     ]
    }
   ],
   "source": [
    "EMBEDDING_DIM = 300\n",
    "\n",
    "print('Preparing embedding matrix.')\n",
    "\n",
    "# prepare embedding matrix\n",
    "num_words_train = min(MAX_NUM_WORDS, len(word_index) + 1)\n",
    "embedding_matrix = np.zeros((num_words_train, EMBEDDING_DIM))\n",
    "for word, i in word_index.items():\n",
    "    if i >= MAX_NUM_WORDS:\n",
    "        continue\n",
    "    embedding_vector = embeddings_index.get(word)\n",
    "    if embedding_vector is not None:\n",
    "        # words not found in embedding index will be all-zeros.\n",
    "        embedding_matrix[i] = embedding_vector\n",
    "print(embedding_matrix.shape)"
   ]
  },
  {
   "cell_type": "markdown",
   "metadata": {},
   "source": [
    "# Generating 3 dimensional inputs for LSTM layers\n",
    "The two cells below are used to generate 3 dimensional inputs for the LSTM layer of our machine learning model. Since we could not use embedding layer to generate this 3 dimensional inputs, I figure out a way to achieve this using Python.\n",
    "\n",
    "The 2 for loops in the first cell are to loop through every single token in each row of headlines. For each token, we will look up to the dictionary (embeddings_index) and find its corresponding word vector. Then, we will replace this token with the word vector returned. Note that this operation is viable because I initially set the data type of each token to be an object, instead of float or int, that's why we can assign an array to replace each token directly (this is not possible if the token is of data type int or float).\n",
    "\n",
    "As a result, the input of our training set, x_train, will have a dimension of (61692, 100, 300), which represents 61692 rows of headlines in the training set, for each row of headline there are 100 tokens, for every token a word vector of 300d is assigned."
   ]
  },
  {
   "cell_type": "code",
   "execution_count": 12,
   "metadata": {},
   "outputs": [],
   "source": [
    "for i in range(61692):\n",
    "    for j in range(100):\n",
    "        data[i][j] = embedding_matrix[int(data[i][j])]\n"
   ]
  },
  {
   "cell_type": "code",
   "execution_count": 13,
   "metadata": {},
   "outputs": [],
   "source": [
    "x_train = np.zeros((61692,100,300))\n",
    "for j in range(61692):\n",
    "        x_train[j] = np.stack(data[:][j])"
   ]
  },
  {
   "cell_type": "code",
   "execution_count": 14,
   "metadata": {},
   "outputs": [
    {
     "data": {
      "text/plain": [
       "(61692, 100, 300)"
      ]
     },
     "execution_count": 14,
     "metadata": {},
     "output_type": "execute_result"
    }
   ],
   "source": [
    "x_train.shape"
   ]
  },
  {
   "cell_type": "markdown",
   "metadata": {},
   "source": [
    "# Tokenizing Text Samples in Validation Dataset"
   ]
  },
  {
   "cell_type": "code",
   "execution_count": 15,
   "metadata": {},
   "outputs": [
    {
     "name": "stdout",
     "output_type": "stream",
     "text": [
      "There are 2879 unique tokens in the validation dataset.\n",
      "Shape of data tensor: (1000, 100)\n",
      "Shape of label tensor: (1000, 3)\n"
     ]
    }
   ],
   "source": [
    "MAX_NUM_WORDS = 3500\n",
    "\n",
    "# Vectorizing the text samples into a 2D integer tensor\n",
    "tokenizer = Tokenizer(num_words=MAX_NUM_WORDS)\n",
    "tokenizer.fit_on_texts(val_data.Headlines[0:])\n",
    "sequences = tokenizer.texts_to_sequences(val_data.Headlines[0:])\n",
    "\n",
    "word_index = tokenizer.word_index\n",
    "print('There are %s unique tokens in the validation dataset.' % len(word_index))\n",
    "\n",
    "MAX_SEQUENCE_LENGTH = 100\n",
    "\n",
    "valData = pad_sequences(sequences, maxlen=MAX_SEQUENCE_LENGTH, dtype=object)\n",
    "\n",
    "valLabels = to_categorical(val_data.Sentiment - val_data.Sentiment.min())\n",
    "print('Shape of data tensor:', valData.shape)\n",
    "print('Shape of label tensor:', valLabels.shape)"
   ]
  },
  {
   "cell_type": "markdown",
   "metadata": {},
   "source": [
    "# Building Embedding Matrix for Validation Dataset"
   ]
  },
  {
   "cell_type": "code",
   "execution_count": 16,
   "metadata": {},
   "outputs": [
    {
     "name": "stdout",
     "output_type": "stream",
     "text": [
      "Preparing embedding matrix.\n",
      "(2880, 300)\n"
     ]
    }
   ],
   "source": [
    "EMBEDDING_DIM = 300\n",
    "\n",
    "print('Preparing embedding matrix.')\n",
    "\n",
    "# prepare embedding matrix\n",
    "num_words_val = min(MAX_NUM_WORDS, len(word_index) + 1)\n",
    "embedding_matrix_val = np.zeros((num_words_val, EMBEDDING_DIM))\n",
    "for word, i in word_index.items():\n",
    "    if i >= MAX_NUM_WORDS:\n",
    "        continue\n",
    "    embedding_vector_val = embeddings_index.get(word)\n",
    "    if embedding_vector_val is not None:\n",
    "        # words not found in embedding index will be all-zeros.\n",
    "        embedding_matrix_val[i] = embedding_vector_val\n",
    "print(embedding_matrix_val.shape)"
   ]
  },
  {
   "cell_type": "markdown",
   "metadata": {},
   "source": [
    "# Generating 3 dimensional inputs for LSTM layers"
   ]
  },
  {
   "cell_type": "code",
   "execution_count": 17,
   "metadata": {},
   "outputs": [],
   "source": [
    "for i in range(1000):\n",
    "    for j in range(100):\n",
    "        valData[i][j] = embedding_matrix_val[int(valData[i][j])]"
   ]
  },
  {
   "cell_type": "code",
   "execution_count": 18,
   "metadata": {},
   "outputs": [],
   "source": [
    "x_val = np.zeros((1000,100,300))\n",
    "for j in range(1000):\n",
    "        x_val[j] = np.stack(valData[:][j])"
   ]
  },
  {
   "cell_type": "markdown",
   "metadata": {},
   "source": [
    "# Tokenizing Text Samples in Test Dataset"
   ]
  },
  {
   "cell_type": "code",
   "execution_count": 19,
   "metadata": {},
   "outputs": [
    {
     "name": "stdout",
     "output_type": "stream",
     "text": [
      "There are 3055 unique tokens in the testing dataset.\n",
      "Shape of data tensor: (1000, 100)\n",
      "Shape of label tensor: (1000, 3)\n"
     ]
    }
   ],
   "source": [
    "MAX_NUM_WORDS = 3500\n",
    "\n",
    "# Vectorizing the text samples into a 2D integer tensor\n",
    "tokenizer = Tokenizer(num_words=MAX_NUM_WORDS)\n",
    "tokenizer.fit_on_texts(test_data.Headlines[0:])\n",
    "sequences = tokenizer.texts_to_sequences(test_data.Headlines[0:])\n",
    "\n",
    "word_index = tokenizer.word_index\n",
    "print('There are %s unique tokens in the testing dataset.' % len(word_index))\n",
    "\n",
    "MAX_SEQUENCE_LENGTH = 100\n",
    "\n",
    "testData = pad_sequences(sequences, maxlen=MAX_SEQUENCE_LENGTH, dtype=object)\n",
    "\n",
    "testLabels = to_categorical(test_data.Sentiment - test_data.Sentiment.min())\n",
    "print('Shape of data tensor:', testData.shape)\n",
    "print('Shape of label tensor:', testLabels.shape)"
   ]
  },
  {
   "cell_type": "markdown",
   "metadata": {},
   "source": [
    "# Building Embedding Matrix for Test Dataset"
   ]
  },
  {
   "cell_type": "code",
   "execution_count": 20,
   "metadata": {},
   "outputs": [
    {
     "name": "stdout",
     "output_type": "stream",
     "text": [
      "Preparing embedding matrix.\n",
      "(3056, 300)\n"
     ]
    }
   ],
   "source": [
    "EMBEDDING_DIM = 300\n",
    "\n",
    "print('Preparing embedding matrix.')\n",
    "\n",
    "# prepare embedding matrix\n",
    "num_word_test = min(MAX_NUM_WORDS, len(word_index) + 1)\n",
    "embedding_matrix_test = np.zeros((num_word_test, EMBEDDING_DIM))\n",
    "for word, i in word_index.items():\n",
    "    if i >= MAX_NUM_WORDS:\n",
    "        continue\n",
    "    embedding_vector_test = embeddings_index.get(word)\n",
    "    if embedding_vector_test is not None:\n",
    "        # words not found in embedding index will be all-zeros.\n",
    "        embedding_matrix_test[i] = embedding_vector_test\n",
    "print(embedding_matrix_test.shape)"
   ]
  },
  {
   "cell_type": "markdown",
   "metadata": {},
   "source": [
    "# Generating 3 dimensional inputs for LSTM layers"
   ]
  },
  {
   "cell_type": "code",
   "execution_count": 21,
   "metadata": {},
   "outputs": [],
   "source": [
    "for i in range(1000):\n",
    "    for j in range(100):\n",
    "        testData[i][j] = embedding_matrix_test[int(testData[i][j])]"
   ]
  },
  {
   "cell_type": "code",
   "execution_count": 22,
   "metadata": {},
   "outputs": [],
   "source": [
    "x_test = np.zeros((1000,100,300))\n",
    "for j in range(1000):\n",
    "        x_test[j] = np.stack(testData[:][j])"
   ]
  },
  {
   "cell_type": "markdown",
   "metadata": {},
   "source": [
    "# Finalized data preparation and checking of all the x (input) and y(labels) of training, validation and test sets."
   ]
  },
  {
   "cell_type": "code",
   "execution_count": 23,
   "metadata": {},
   "outputs": [
    {
     "data": {
      "text/plain": [
       "(1000, 100, 300)"
      ]
     },
     "execution_count": 23,
     "metadata": {},
     "output_type": "execute_result"
    }
   ],
   "source": [
    "x_train.shape\n",
    "x_val.shape\n",
    "x_test.shape"
   ]
  },
  {
   "cell_type": "code",
   "execution_count": 24,
   "metadata": {},
   "outputs": [],
   "source": [
    "y_train = labels\n",
    "y_val = valLabels\n",
    "y_test = testLabels"
   ]
  },
  {
   "cell_type": "code",
   "execution_count": 25,
   "metadata": {},
   "outputs": [
    {
     "data": {
      "text/plain": [
       "(61692, 3)"
      ]
     },
     "execution_count": 25,
     "metadata": {},
     "output_type": "execute_result"
    }
   ],
   "source": [
    "y_train.shape"
   ]
  },
  {
   "cell_type": "markdown",
   "metadata": {},
   "source": [
    "# Model Building"
   ]
  },
  {
   "cell_type": "markdown",
   "metadata": {},
   "source": [
    "Create a sequential model to prepare a plain stack of layers where each layer has exactly one input tensor and one output tensor."
   ]
  },
  {
   "cell_type": "code",
   "execution_count": 26,
   "metadata": {},
   "outputs": [],
   "source": [
    "model = Sequential()"
   ]
  },
  {
   "cell_type": "markdown",
   "metadata": {},
   "source": [
    "Adding Bidirectional LSTM with 128 memory units as the first layer, following by a flatten layer (this is required when the return_sequences are set to true,  where the lstm model will return the hidden state output for each input time step), a Dense Layer with 128 neurons and last but not least a Dense Layer with 'softmax' activation function applied and it is set to output 3 types of label (since our sentiment label consist of 'negative', 'neutral' and 'positive'.\n",
    "\n",
    "Other than the final Dense Layer, all other LSTM and Dense layers are using 'relu' activation function.\n",
    "\n",
    "Dropout layers with rate of 0.2 are applied after the first Bidiretional LSTM layer and the second Dense layer to prevent the model from overfitting the training data."
   ]
  },
  {
   "cell_type": "code",
   "execution_count": 27,
   "metadata": {},
   "outputs": [
    {
     "name": "stdout",
     "output_type": "stream",
     "text": [
      "WARNING:tensorflow:Layer lstm will not use cuDNN kernels since it doesn't meet the criteria. It will use a generic GPU kernel as fallback when running on GPU.\n",
      "WARNING:tensorflow:Layer lstm will not use cuDNN kernels since it doesn't meet the criteria. It will use a generic GPU kernel as fallback when running on GPU.\n",
      "WARNING:tensorflow:Layer lstm will not use cuDNN kernels since it doesn't meet the criteria. It will use a generic GPU kernel as fallback when running on GPU.\n"
     ]
    }
   ],
   "source": [
    "model.add(Bidirectional(LSTM(128, input_shape=(x_train.shape[1:]), activation='relu', return_sequences=True)))\n",
    "model.add(Dropout(0.2))\n",
    "model.add(Flatten())\n",
    "model.add(Dense(128, activation='relu'))\n",
    "model.add(Dropout(0.2))\n",
    "model.add(Dense(len(y_train[0]), activation='softmax'))"
   ]
  },
  {
   "cell_type": "markdown",
   "metadata": {},
   "source": [
    "Compiling the model with Adam optimzizer and loss functiom of categorical_crossentropy."
   ]
  },
  {
   "cell_type": "code",
   "execution_count": 28,
   "metadata": {},
   "outputs": [],
   "source": [
    "opt1 = SGD(learning_rate=0.01, momentum=0.9)\n",
    "opt2 = Adam(learning_rate=1e-3, decay=1e-5)"
   ]
  },
  {
   "cell_type": "code",
   "execution_count": 29,
   "metadata": {},
   "outputs": [],
   "source": [
    "# compile the model\n",
    "model.compile(loss='categorical_crossentropy',\n",
    "              optimizer=opt2,\n",
    "              metrics=['accuracy'])"
   ]
  },
  {
   "cell_type": "markdown",
   "metadata": {},
   "source": [
    "Fitting the training data into the model to train the model with batch size of 1024 and 5 epochs. "
   ]
  },
  {
   "cell_type": "code",
   "execution_count": 30,
   "metadata": {},
   "outputs": [
    {
     "name": "stderr",
     "output_type": "stream",
     "text": [
      "2022-01-29 19:10:02.107905: W tensorflow/core/platform/profile_utils/cpu_utils.cc:128] Failed to get CPU frequency: 0 Hz\n"
     ]
    },
    {
     "name": "stdout",
     "output_type": "stream",
     "text": [
      "Epoch 1/5\n"
     ]
    },
    {
     "name": "stderr",
     "output_type": "stream",
     "text": [
      "2022-01-29 19:10:02.622568: I tensorflow/core/grappler/optimizers/custom_graph_optimizer_registry.cc:112] Plugin optimizer for device_type GPU is enabled.\n"
     ]
    },
    {
     "name": "stdout",
     "output_type": "stream",
     "text": [
      "61/61 [==============================] - ETA: 0s - loss: 0.9323 - accuracy: 0.5475"
     ]
    },
    {
     "name": "stderr",
     "output_type": "stream",
     "text": [
      "2022-01-29 19:10:50.181109: I tensorflow/core/grappler/optimizers/custom_graph_optimizer_registry.cc:112] Plugin optimizer for device_type GPU is enabled.\n"
     ]
    },
    {
     "name": "stdout",
     "output_type": "stream",
     "text": [
      "61/61 [==============================] - 48s 776ms/step - loss: 0.9323 - accuracy: 0.5475 - val_loss: 0.8261 - val_accuracy: 0.5940\n",
      "Epoch 2/5\n",
      "61/61 [==============================] - 48s 784ms/step - loss: 372.9150 - accuracy: 0.6562 - val_loss: 0.8799 - val_accuracy: 0.5620\n",
      "Epoch 3/5\n",
      "61/61 [==============================] - 50s 818ms/step - loss: 0.7359 - accuracy: 0.6838 - val_loss: 0.9085 - val_accuracy: 0.5590\n",
      "Epoch 4/5\n",
      "61/61 [==============================] - 48s 788ms/step - loss: 0.6969 - accuracy: 0.7046 - val_loss: 0.9570 - val_accuracy: 0.5350\n",
      "Epoch 5/5\n",
      "61/61 [==============================] - 48s 788ms/step - loss: 0.6651 - accuracy: 0.7206 - val_loss: 0.8663 - val_accuracy: 0.5900\n"
     ]
    }
   ],
   "source": [
    "with tf.device('/cpu:0'):\n",
    "    training_model = model.fit(x_train, y_train,\n",
    "                                batch_size=1024,\n",
    "                                epochs=5, \n",
    "                                validation_data = (x_val, y_val))"
   ]
  },
  {
   "cell_type": "markdown",
   "metadata": {},
   "source": [
    "# Model Evaluation"
   ]
  },
  {
   "cell_type": "markdown",
   "metadata": {},
   "source": [
    "Plotting a line graph to see how training and validation accuracy increase after each epochs."
   ]
  },
  {
   "cell_type": "code",
   "execution_count": 48,
   "metadata": {},
   "outputs": [
    {
     "data": {
      "text/plain": [
       "Text(0.5, 1.0, 'Training Accuracy vs Validation Accuracy')"
      ]
     },
     "execution_count": 48,
     "metadata": {},
     "output_type": "execute_result"
    },
    {
     "data": {
      "image/png": "[encoded data removed]",
      "text/plain": [
       "<Figure size 1080x504 with 1 Axes>"
      ]
     },
     "metadata": {
      "needs_background": "light"
     },
     "output_type": "display_data"
    }
   ],
   "source": [
    "#plot accuracy\n",
    "plt.figure(figsize=(15, 7))\n",
    "plt.plot(range(5), training_model.history['accuracy'])\n",
    "plt.plot(range(5), training_model.history['val_accuracy'])\n",
    "plt.legend(['training_acc', 'validation_acc'])\n",
    "plt.xlabel(\"Epochs\", fontweight=\"bold\", fontsize=\"14\")\n",
    "plt.ylabel(\"Accuracy\", fontweight=\"bold\", fontsize=\"14\")\n",
    "plt.title('Training Accuracy vs Validation Accuracy', fontweight=\"bold\", fontsize=\"18\")"
   ]
  },
  {
   "cell_type": "markdown",
   "metadata": {},
   "source": [
    "Evaluate the model with test dataset and display the corresponding accuracy and loss."
   ]
  },
  {
   "cell_type": "code",
   "execution_count": 49,
   "metadata": {},
   "outputs": [
    {
     "name": "stdout",
     "output_type": "stream",
     "text": [
      "Accuracy (Test Set): 0.615000\n",
      "Loss     (Test Set): 0.845002\n"
     ]
    }
   ],
   "source": [
    "with tf.device('/cpu:0'):\n",
    "    loss, accuracy = model.evaluate(x_test, y_test, verbose=0)\n",
    "\n",
    "    print('Accuracy (Test Set): %f' % (accuracy))\n",
    "    print('Loss     (Test Set): %f' % (loss))"
   ]
  },
  {
   "cell_type": "code",
   "execution_count": 34,
   "metadata": {},
   "outputs": [
    {
     "name": "stdout",
     "output_type": "stream",
     "text": [
      "Model: \"sequential\"\n",
      "_________________________________________________________________\n",
      " Layer (type)                Output Shape              Param #   \n",
      "=================================================================\n",
      " bidirectional (Bidirectiona  (None, 100, 256)         439296    \n",
      " l)                                                              \n",
      "                                                                 \n",
      " dropout (Dropout)           (None, 100, 256)          0         \n",
      "                                                                 \n",
      " flatten (Flatten)           (None, 25600)             0         \n",
      "                                                                 \n",
      " dense (Dense)               (None, 128)               3276928   \n",
      "                                                                 \n",
      " dropout_1 (Dropout)         (None, 128)               0         \n",
      "                                                                 \n",
      " dense_1 (Dense)             (None, 3)                 387       \n",
      "                                                                 \n",
      "=================================================================\n",
      "Total params: 3,716,611\n",
      "Trainable params: 3,716,611\n",
      "Non-trainable params: 0\n",
      "_________________________________________________________________\n"
     ]
    }
   ],
   "source": [
    "model.summary()"
   ]
  },
  {
   "cell_type": "markdown",
   "metadata": {},
   "source": [
    "# Model Testing"
   ]
  },
  {
   "cell_type": "code",
   "execution_count": 53,
   "metadata": {},
   "outputs": [
    {
     "name": "stdout",
     "output_type": "stream",
     "text": [
      "(1000, 3)\n"
     ]
    }
   ],
   "source": [
    "with tf.device('/cpu:0'):\n",
    "    output = model.predict(x_test)\n",
    "\n",
    "print(output.shape)"
   ]
  },
  {
   "cell_type": "code",
   "execution_count": 54,
   "metadata": {},
   "outputs": [
    {
     "data": {
      "text/plain": [
       "array([[0.13466485, 0.20781979, 0.65751535],\n",
       "       [0.009301  , 0.7471878 , 0.24351121],\n",
       "       [0.02135628, 0.8545073 , 0.12413646],\n",
       "       ...,\n",
       "       [0.5479214 , 0.0211898 , 0.43088883],\n",
       "       [0.6611812 , 0.26026696, 0.07855193],\n",
       "       [0.01668142, 0.09117854, 0.89214003]], dtype=float32)"
      ]
     },
     "execution_count": 54,
     "metadata": {},
     "output_type": "execute_result"
    }
   ],
   "source": [
    "output"
   ]
  },
  {
   "cell_type": "code",
   "execution_count": 37,
   "metadata": {},
   "outputs": [
    {
     "name": "stdout",
     "output_type": "stream",
     "text": [
      "[2 1 1 0 1 1 2 2 2 0 1 1 1 2 0 0 2 0 0 1 1 0 0 2 2 2 0 1 1 0 1 1 2 1 0 1 2\n",
      " 2 1 1 1 1 0 0 0 0 1 1 0 2 1 1 2 1 0 1 0 1 1 2 2 0 0 0 2 1 1 2 2 1 1 2 1 1\n",
      " 2 2 1 1 2 1 1 2 2 1 2 1 2 2 1 1 1 2 2 2 2 2 1 2 0 1 1 2 1 2 2 1 2 1 1 2 0\n",
      " 1 1 0 0 2 2 1 0 2 1 1 2 1 0 0 2 2 1 2 0 2 1 1 1 1 0 1 1 0 1 1 1 1 1 1 1 2\n",
      " 1 0 0 2 2 2 2 1 2 2 1 2 1 1 0 2 0 2 1 1 1 2 2 1 1 0 2 2 1 2 1 1 2 1 2 2 2\n",
      " 2 2 2 2 2 2 2 2 0 2 1 1 2 2 0 2 0 2 2 2 2 1 1 2 2 0 2 0 2 2 0 1 1 0 1 2 2\n",
      " 1 2 2 2 1 1 1 2 0 0 2 0 1 0 1 1 2 0 2 2 2 1 2 0 1 2 0 1 1 1 2 1 0 2 2 1 1\n",
      " 2 1 0 2 1 0 1 2 1 2 1 0 1 2 2 2 1 2 1 1 0 0 1 2 0 1 1 2 2 1 0 1 1 2 2 2 0\n",
      " 2 2 0 1 1 2 2 2 2 2 2 1 0 1 1 1 2 1 1 2 2 2 1 0 1 2 1 2 2 0 2 1 1 1 0 2 1\n",
      " 1 0 0 2 0 1 1 1 1 2 2 0 2 0 2 0 2 2 1 0 2 0 2 1 1 1 1 2 2 1 1 1 1 0 1 0 2\n",
      " 2 0 0 2 0 0 2 0 1 2 1 1 1 2 1 2 2 1 1 0 2 2 0 2 1 1 2 0 2 1 1 1 2 1 2 2 0\n",
      " 1 2 2 0 1 1 2 2 1 2 0 2 1 0 0 0 0 1 1 2 2 2 0 2 1 1 0 1 2 1 0 2 0 1 1 2 2\n",
      " 0 2 2 0 2 2 1 2 0 2 1 1 2 1 2 2 0 1 2 0 2 1 1 2 0 1 0 0 2 2 2 2 2 2 1 2 1\n",
      " 0 2 1 2 0 1 2 1 0 1 1 2 1 2 2 2 2 1 1 2 0 2 2 2 2 2 0 1 0 1 0 1 0 1 0 2 1\n",
      " 1 1 1 0 1 0 1 1 0 2 1 2 1 2 2 1 2 0 2 0 1 1 2 2 2 2 2 0 2 2 1 2 2 1 0 1 2\n",
      " 0 0 0 0 2 2 2 0 2 2 2 2 2 0 2 1 2 1 2 0 2 0 2 2 1 2 0 0 0 0 0 0 0 1 1 1 1\n",
      " 2 0 2 0 0 2 0 2 0 2 2 1 0 2 1 2 2 2 2 2 1 2 0 2 0 0 2 2 2 1 2 2 1 2 1 0 1\n",
      " 1 2 1 1 1 0 0 2 2 0 2 2 2 0 2 0 0 2 1 2 2 1 0 2 2 0 2 0 2 2 1 1 2 2 2 1 2\n",
      " 0 2 2 2 1 2 0 1 2 0 1 0 0 2 2 0 0 2 1 2 2 2 2 2 2 2 2 1 2 1 0 0 1 0 0 0 1\n",
      " 2 2 0 2 2 0 2 0 2 0 0 1 2 1 0 2 1 2 2 2 1 2 0 1 0 2 2 0 1 2 2 2 1 1 2 2 1\n",
      " 2 0 2 1 0 2 2 1 0 1 1 0 1 1 2 1 0 1 0 1 1 2 2 1 0 0 2 1 2 2 2 2 2 1 2 1 2\n",
      " 1 0 2 0 2 2 1 1 1 2 2 2 1 2 2 0 1 1 1 0 2 0 1 1 2 2 2 2 2 2 2 2 0 2 0 2 2\n",
      " 2 2 2 2 2 2 1 0 2 2 2 1 2 2 1 2 2 2 0 1 0 0 2 2 2 2 1 1 0 0 0 2 2 2 2 1 1\n",
      " 1 1 0 2 2 2 2 2 2 1 2 0 2 2 0 0 0 0 1 0 2 1 0 2 0 2 2 0 1 2 1 0 2 2 0 0 1\n",
      " 1 2 1 2 2 2 2 1 2 0 1 2 0 2 2 2 0 2 2 2 1 0 2 0 0 1 0 2 0 2 2 2 2 1 2 0 0\n",
      " 1 1 2 1 2 2 0 2 2 2 2 2 2 2 0 0 2 2 0 2 2 2 2 2 1 2 0 2 1 0 2 0 2 2 0 2 2\n",
      " 1 0 0 1 2 2 2 0 2 2 1 1 0 0 0 2 2 0 1 2 1 2 0 1 0 0 2 0 0 2 2 0 2 2 1 0 0\n",
      " 2]\n"
     ]
    }
   ],
   "source": [
    "result = np.argmax(output, axis=1)\n",
    "print(result)"
   ]
  },
  {
   "cell_type": "code",
   "execution_count": 38,
   "metadata": {},
   "outputs": [],
   "source": [
    "sentiment_test = []\n",
    "for i in range(len(result)):\n",
    "    if result[i] == 0:\n",
    "        sentiment_test.append(\"negative\")\n",
    "    elif result[i] == 1:\n",
    "        sentiment_test.append(\"neutral\")\n",
    "    else:\n",
    "        sentiment_test.append(\"positive\")"
   ]
  },
  {
   "cell_type": "code",
   "execution_count": 50,
   "metadata": {},
   "outputs": [
    {
     "data": {
      "text/plain": [
       "['positive',\n",
       " 'neutral',\n",
       " 'neutral',\n",
       " 'negative',\n",
       " 'neutral',\n",
       " 'neutral',\n",
       " 'positive',\n",
       " 'positive',\n",
       " 'positive',\n",
       " 'negative',\n",
       " 'neutral',\n",
       " 'neutral',\n",
       " 'neutral',\n",
       " 'positive',\n",
       " 'negative',\n",
       " 'negative',\n",
       " 'positive',\n",
       " 'negative',\n",
       " 'negative',\n",
       " 'neutral',\n",
       " 'neutral',\n",
       " 'negative',\n",
       " 'negative',\n",
       " 'positive',\n",
       " 'positive',\n",
       " 'positive',\n",
       " 'negative',\n",
       " 'neutral',\n",
       " 'neutral',\n",
       " 'negative',\n",
       " 'neutral',\n",
       " 'neutral',\n",
       " 'positive',\n",
       " 'neutral',\n",
       " 'negative',\n",
       " 'neutral',\n",
       " 'positive',\n",
       " 'positive',\n",
       " 'neutral',\n",
       " 'neutral',\n",
       " 'neutral',\n",
       " 'neutral',\n",
       " 'negative',\n",
       " 'negative',\n",
       " 'negative',\n",
       " 'negative',\n",
       " 'neutral',\n",
       " 'neutral',\n",
       " 'negative',\n",
       " 'positive',\n",
       " 'neutral',\n",
       " 'neutral',\n",
       " 'positive',\n",
       " 'neutral',\n",
       " 'negative',\n",
       " 'neutral',\n",
       " 'negative',\n",
       " 'neutral',\n",
       " 'neutral',\n",
       " 'positive',\n",
       " 'positive',\n",
       " 'negative',\n",
       " 'negative',\n",
       " 'negative',\n",
       " 'positive',\n",
       " 'neutral',\n",
       " 'neutral',\n",
       " 'positive',\n",
       " 'positive',\n",
       " 'neutral',\n",
       " 'neutral',\n",
       " 'positive',\n",
       " 'neutral',\n",
       " 'neutral',\n",
       " 'positive',\n",
       " 'positive',\n",
       " 'neutral',\n",
       " 'neutral',\n",
       " 'positive',\n",
       " 'neutral',\n",
       " 'neutral',\n",
       " 'positive',\n",
       " 'positive',\n",
       " 'neutral',\n",
       " 'positive',\n",
       " 'neutral',\n",
       " 'positive',\n",
       " 'positive',\n",
       " 'neutral',\n",
       " 'neutral',\n",
       " 'neutral',\n",
       " 'positive',\n",
       " 'positive',\n",
       " 'positive',\n",
       " 'positive',\n",
       " 'positive',\n",
       " 'neutral',\n",
       " 'positive',\n",
       " 'negative',\n",
       " 'neutral',\n",
       " 'neutral',\n",
       " 'positive',\n",
       " 'neutral',\n",
       " 'positive',\n",
       " 'positive',\n",
       " 'neutral',\n",
       " 'positive',\n",
       " 'neutral',\n",
       " 'neutral',\n",
       " 'positive',\n",
       " 'negative',\n",
       " 'neutral',\n",
       " 'neutral',\n",
       " 'negative',\n",
       " 'negative',\n",
       " 'positive',\n",
       " 'positive',\n",
       " 'neutral',\n",
       " 'negative',\n",
       " 'positive',\n",
       " 'neutral',\n",
       " 'neutral',\n",
       " 'positive',\n",
       " 'neutral',\n",
       " 'negative',\n",
       " 'negative',\n",
       " 'positive',\n",
       " 'positive',\n",
       " 'neutral',\n",
       " 'positive',\n",
       " 'negative',\n",
       " 'positive',\n",
       " 'neutral',\n",
       " 'neutral',\n",
       " 'neutral',\n",
       " 'neutral',\n",
       " 'negative',\n",
       " 'neutral',\n",
       " 'neutral',\n",
       " 'negative',\n",
       " 'neutral',\n",
       " 'neutral',\n",
       " 'neutral',\n",
       " 'neutral',\n",
       " 'neutral',\n",
       " 'neutral',\n",
       " 'neutral',\n",
       " 'positive',\n",
       " 'neutral',\n",
       " 'negative',\n",
       " 'negative',\n",
       " 'positive',\n",
       " 'positive',\n",
       " 'positive',\n",
       " 'positive',\n",
       " 'neutral',\n",
       " 'positive',\n",
       " 'positive',\n",
       " 'neutral',\n",
       " 'positive',\n",
       " 'neutral',\n",
       " 'neutral',\n",
       " 'negative',\n",
       " 'positive',\n",
       " 'negative',\n",
       " 'positive',\n",
       " 'neutral',\n",
       " 'neutral',\n",
       " 'neutral',\n",
       " 'positive',\n",
       " 'positive',\n",
       " 'neutral',\n",
       " 'neutral',\n",
       " 'negative',\n",
       " 'positive',\n",
       " 'positive',\n",
       " 'neutral',\n",
       " 'positive',\n",
       " 'neutral',\n",
       " 'neutral',\n",
       " 'positive',\n",
       " 'neutral',\n",
       " 'positive',\n",
       " 'positive',\n",
       " 'positive',\n",
       " 'positive',\n",
       " 'positive',\n",
       " 'positive',\n",
       " 'positive',\n",
       " 'positive',\n",
       " 'positive',\n",
       " 'positive',\n",
       " 'positive',\n",
       " 'negative',\n",
       " 'positive',\n",
       " 'neutral',\n",
       " 'neutral',\n",
       " 'positive',\n",
       " 'positive',\n",
       " 'negative',\n",
       " 'positive',\n",
       " 'negative',\n",
       " 'positive',\n",
       " 'positive',\n",
       " 'positive',\n",
       " 'positive',\n",
       " 'neutral',\n",
       " 'neutral',\n",
       " 'positive',\n",
       " 'positive',\n",
       " 'negative',\n",
       " 'positive',\n",
       " 'negative',\n",
       " 'positive',\n",
       " 'positive',\n",
       " 'negative',\n",
       " 'neutral',\n",
       " 'neutral',\n",
       " 'negative',\n",
       " 'neutral',\n",
       " 'positive',\n",
       " 'positive',\n",
       " 'neutral',\n",
       " 'positive',\n",
       " 'positive',\n",
       " 'positive',\n",
       " 'neutral',\n",
       " 'neutral',\n",
       " 'neutral',\n",
       " 'positive',\n",
       " 'negative',\n",
       " 'negative',\n",
       " 'positive',\n",
       " 'negative',\n",
       " 'neutral',\n",
       " 'negative',\n",
       " 'neutral',\n",
       " 'neutral',\n",
       " 'positive',\n",
       " 'negative',\n",
       " 'positive',\n",
       " 'positive',\n",
       " 'positive',\n",
       " 'neutral',\n",
       " 'positive',\n",
       " 'negative',\n",
       " 'neutral',\n",
       " 'positive',\n",
       " 'negative',\n",
       " 'neutral',\n",
       " 'neutral',\n",
       " 'neutral',\n",
       " 'positive',\n",
       " 'neutral',\n",
       " 'negative',\n",
       " 'positive',\n",
       " 'positive',\n",
       " 'neutral',\n",
       " 'neutral',\n",
       " 'positive',\n",
       " 'neutral',\n",
       " 'negative',\n",
       " 'positive',\n",
       " 'neutral',\n",
       " 'negative',\n",
       " 'neutral',\n",
       " 'positive',\n",
       " 'neutral',\n",
       " 'positive',\n",
       " 'neutral',\n",
       " 'negative',\n",
       " 'neutral',\n",
       " 'positive',\n",
       " 'positive',\n",
       " 'positive',\n",
       " 'neutral',\n",
       " 'positive',\n",
       " 'neutral',\n",
       " 'neutral',\n",
       " 'negative',\n",
       " 'negative',\n",
       " 'neutral',\n",
       " 'positive',\n",
       " 'negative',\n",
       " 'neutral',\n",
       " 'neutral',\n",
       " 'positive',\n",
       " 'positive',\n",
       " 'neutral',\n",
       " 'negative',\n",
       " 'neutral',\n",
       " 'neutral',\n",
       " 'positive',\n",
       " 'positive',\n",
       " 'positive',\n",
       " 'negative',\n",
       " 'positive',\n",
       " 'positive',\n",
       " 'negative',\n",
       " 'neutral',\n",
       " 'neutral',\n",
       " 'positive',\n",
       " 'positive',\n",
       " 'positive',\n",
       " 'positive',\n",
       " 'positive',\n",
       " 'positive',\n",
       " 'neutral',\n",
       " 'negative',\n",
       " 'neutral',\n",
       " 'neutral',\n",
       " 'neutral',\n",
       " 'positive',\n",
       " 'neutral',\n",
       " 'neutral',\n",
       " 'positive',\n",
       " 'positive',\n",
       " 'positive',\n",
       " 'neutral',\n",
       " 'negative',\n",
       " 'neutral',\n",
       " 'positive',\n",
       " 'neutral',\n",
       " 'positive',\n",
       " 'positive',\n",
       " 'negative',\n",
       " 'positive',\n",
       " 'neutral',\n",
       " 'neutral',\n",
       " 'neutral',\n",
       " 'negative',\n",
       " 'positive',\n",
       " 'neutral',\n",
       " 'neutral',\n",
       " 'negative',\n",
       " 'negative',\n",
       " 'positive',\n",
       " 'negative',\n",
       " 'neutral',\n",
       " 'neutral',\n",
       " 'neutral',\n",
       " 'neutral',\n",
       " 'positive',\n",
       " 'positive',\n",
       " 'negative',\n",
       " 'positive',\n",
       " 'negative',\n",
       " 'positive',\n",
       " 'negative',\n",
       " 'positive',\n",
       " 'positive',\n",
       " 'neutral',\n",
       " 'negative',\n",
       " 'positive',\n",
       " 'negative',\n",
       " 'positive',\n",
       " 'neutral',\n",
       " 'neutral',\n",
       " 'neutral',\n",
       " 'neutral',\n",
       " 'positive',\n",
       " 'positive',\n",
       " 'neutral',\n",
       " 'neutral',\n",
       " 'neutral',\n",
       " 'neutral',\n",
       " 'negative',\n",
       " 'neutral',\n",
       " 'negative',\n",
       " 'positive',\n",
       " 'positive',\n",
       " 'negative',\n",
       " 'negative',\n",
       " 'positive',\n",
       " 'negative',\n",
       " 'negative',\n",
       " 'positive',\n",
       " 'negative',\n",
       " 'neutral',\n",
       " 'positive',\n",
       " 'neutral',\n",
       " 'neutral',\n",
       " 'neutral',\n",
       " 'positive',\n",
       " 'neutral',\n",
       " 'positive',\n",
       " 'positive',\n",
       " 'neutral',\n",
       " 'neutral',\n",
       " 'negative',\n",
       " 'positive',\n",
       " 'positive',\n",
       " 'negative',\n",
       " 'positive',\n",
       " 'neutral',\n",
       " 'neutral',\n",
       " 'positive',\n",
       " 'negative',\n",
       " 'positive',\n",
       " 'neutral',\n",
       " 'neutral',\n",
       " 'neutral',\n",
       " 'positive',\n",
       " 'neutral',\n",
       " 'positive',\n",
       " 'positive',\n",
       " 'negative',\n",
       " 'neutral',\n",
       " 'positive',\n",
       " 'positive',\n",
       " 'negative',\n",
       " 'neutral',\n",
       " 'neutral',\n",
       " 'positive',\n",
       " 'positive',\n",
       " 'neutral',\n",
       " 'positive',\n",
       " 'negative',\n",
       " 'positive',\n",
       " 'neutral',\n",
       " 'negative',\n",
       " 'negative',\n",
       " 'negative',\n",
       " 'negative',\n",
       " 'neutral',\n",
       " 'neutral',\n",
       " 'positive',\n",
       " 'positive',\n",
       " 'positive',\n",
       " 'negative',\n",
       " 'positive',\n",
       " 'neutral',\n",
       " 'neutral',\n",
       " 'negative',\n",
       " 'neutral',\n",
       " 'positive',\n",
       " 'neutral',\n",
       " 'negative',\n",
       " 'positive',\n",
       " 'negative',\n",
       " 'neutral',\n",
       " 'neutral',\n",
       " 'positive',\n",
       " 'positive',\n",
       " 'negative',\n",
       " 'positive',\n",
       " 'positive',\n",
       " 'negative',\n",
       " 'positive',\n",
       " 'positive',\n",
       " 'neutral',\n",
       " 'positive',\n",
       " 'negative',\n",
       " 'positive',\n",
       " 'neutral',\n",
       " 'neutral',\n",
       " 'positive',\n",
       " 'neutral',\n",
       " 'positive',\n",
       " 'positive',\n",
       " 'negative',\n",
       " 'neutral',\n",
       " 'positive',\n",
       " 'negative',\n",
       " 'positive',\n",
       " 'neutral',\n",
       " 'neutral',\n",
       " 'positive',\n",
       " 'negative',\n",
       " 'neutral',\n",
       " 'negative',\n",
       " 'negative',\n",
       " 'positive',\n",
       " 'positive',\n",
       " 'positive',\n",
       " 'positive',\n",
       " 'positive',\n",
       " 'positive',\n",
       " 'neutral',\n",
       " 'positive',\n",
       " 'neutral',\n",
       " 'negative',\n",
       " 'positive',\n",
       " 'neutral',\n",
       " 'positive',\n",
       " 'negative',\n",
       " 'neutral',\n",
       " 'positive',\n",
       " 'neutral',\n",
       " 'negative',\n",
       " 'neutral',\n",
       " 'neutral',\n",
       " 'positive',\n",
       " 'neutral',\n",
       " 'positive',\n",
       " 'positive',\n",
       " 'positive',\n",
       " 'positive',\n",
       " 'neutral',\n",
       " 'neutral',\n",
       " 'positive',\n",
       " 'negative',\n",
       " 'positive',\n",
       " 'positive',\n",
       " 'positive',\n",
       " 'positive',\n",
       " 'positive',\n",
       " 'negative',\n",
       " 'neutral',\n",
       " 'negative',\n",
       " 'neutral',\n",
       " 'negative',\n",
       " 'neutral',\n",
       " 'negative',\n",
       " 'neutral',\n",
       " 'negative',\n",
       " 'positive',\n",
       " 'neutral',\n",
       " 'neutral',\n",
       " 'neutral',\n",
       " 'neutral',\n",
       " 'negative',\n",
       " 'neutral',\n",
       " 'negative',\n",
       " 'neutral',\n",
       " 'neutral',\n",
       " 'negative',\n",
       " 'positive',\n",
       " 'neutral',\n",
       " 'positive',\n",
       " 'neutral',\n",
       " 'positive',\n",
       " 'positive',\n",
       " 'neutral',\n",
       " 'positive',\n",
       " 'negative',\n",
       " 'positive',\n",
       " 'negative',\n",
       " 'neutral',\n",
       " 'neutral',\n",
       " 'positive',\n",
       " 'positive',\n",
       " 'positive',\n",
       " 'positive',\n",
       " 'positive',\n",
       " 'negative',\n",
       " 'positive',\n",
       " 'positive',\n",
       " 'neutral',\n",
       " 'positive',\n",
       " 'positive',\n",
       " 'neutral',\n",
       " 'negative',\n",
       " 'neutral',\n",
       " 'positive',\n",
       " 'negative',\n",
       " 'negative',\n",
       " 'negative',\n",
       " 'negative',\n",
       " 'positive',\n",
       " 'positive',\n",
       " 'positive',\n",
       " 'negative',\n",
       " 'positive',\n",
       " 'positive',\n",
       " 'positive',\n",
       " 'positive',\n",
       " 'positive',\n",
       " 'negative',\n",
       " 'positive',\n",
       " 'neutral',\n",
       " 'positive',\n",
       " 'neutral',\n",
       " 'positive',\n",
       " 'negative',\n",
       " 'positive',\n",
       " 'negative',\n",
       " 'positive',\n",
       " 'positive',\n",
       " 'neutral',\n",
       " 'positive',\n",
       " 'negative',\n",
       " 'negative',\n",
       " 'negative',\n",
       " 'negative',\n",
       " 'negative',\n",
       " 'negative',\n",
       " 'negative',\n",
       " 'neutral',\n",
       " 'neutral',\n",
       " 'neutral',\n",
       " 'neutral',\n",
       " 'positive',\n",
       " 'negative',\n",
       " 'positive',\n",
       " 'negative',\n",
       " 'negative',\n",
       " 'positive',\n",
       " 'negative',\n",
       " 'positive',\n",
       " 'negative',\n",
       " 'positive',\n",
       " 'positive',\n",
       " 'neutral',\n",
       " 'negative',\n",
       " 'positive',\n",
       " 'neutral',\n",
       " 'positive',\n",
       " 'positive',\n",
       " 'positive',\n",
       " 'positive',\n",
       " 'positive',\n",
       " 'neutral',\n",
       " 'positive',\n",
       " 'negative',\n",
       " 'positive',\n",
       " 'negative',\n",
       " 'negative',\n",
       " 'positive',\n",
       " 'positive',\n",
       " 'positive',\n",
       " 'neutral',\n",
       " 'positive',\n",
       " 'positive',\n",
       " 'neutral',\n",
       " 'positive',\n",
       " 'neutral',\n",
       " 'negative',\n",
       " 'neutral',\n",
       " 'neutral',\n",
       " 'positive',\n",
       " 'neutral',\n",
       " 'neutral',\n",
       " 'neutral',\n",
       " 'negative',\n",
       " 'negative',\n",
       " 'positive',\n",
       " 'positive',\n",
       " 'negative',\n",
       " 'positive',\n",
       " 'positive',\n",
       " 'positive',\n",
       " 'negative',\n",
       " 'positive',\n",
       " 'negative',\n",
       " 'negative',\n",
       " 'positive',\n",
       " 'neutral',\n",
       " 'positive',\n",
       " 'positive',\n",
       " 'neutral',\n",
       " 'negative',\n",
       " 'positive',\n",
       " 'positive',\n",
       " 'negative',\n",
       " 'positive',\n",
       " 'negative',\n",
       " 'positive',\n",
       " 'positive',\n",
       " 'neutral',\n",
       " 'neutral',\n",
       " 'positive',\n",
       " 'positive',\n",
       " 'positive',\n",
       " 'neutral',\n",
       " 'positive',\n",
       " 'negative',\n",
       " 'positive',\n",
       " 'positive',\n",
       " 'positive',\n",
       " 'neutral',\n",
       " 'positive',\n",
       " 'negative',\n",
       " 'neutral',\n",
       " 'positive',\n",
       " 'negative',\n",
       " 'neutral',\n",
       " 'negative',\n",
       " 'negative',\n",
       " 'positive',\n",
       " 'positive',\n",
       " 'negative',\n",
       " 'negative',\n",
       " 'positive',\n",
       " 'neutral',\n",
       " 'positive',\n",
       " 'positive',\n",
       " 'positive',\n",
       " 'positive',\n",
       " 'positive',\n",
       " 'positive',\n",
       " 'positive',\n",
       " 'positive',\n",
       " 'neutral',\n",
       " 'positive',\n",
       " 'neutral',\n",
       " 'negative',\n",
       " 'negative',\n",
       " 'neutral',\n",
       " 'negative',\n",
       " 'negative',\n",
       " 'negative',\n",
       " 'neutral',\n",
       " 'positive',\n",
       " 'positive',\n",
       " 'negative',\n",
       " 'positive',\n",
       " 'positive',\n",
       " 'negative',\n",
       " 'positive',\n",
       " 'negative',\n",
       " 'positive',\n",
       " 'negative',\n",
       " 'negative',\n",
       " 'neutral',\n",
       " 'positive',\n",
       " 'neutral',\n",
       " 'negative',\n",
       " 'positive',\n",
       " 'neutral',\n",
       " 'positive',\n",
       " 'positive',\n",
       " 'positive',\n",
       " 'neutral',\n",
       " 'positive',\n",
       " 'negative',\n",
       " 'neutral',\n",
       " 'negative',\n",
       " 'positive',\n",
       " 'positive',\n",
       " 'negative',\n",
       " 'neutral',\n",
       " 'positive',\n",
       " 'positive',\n",
       " 'positive',\n",
       " 'neutral',\n",
       " 'neutral',\n",
       " 'positive',\n",
       " 'positive',\n",
       " 'neutral',\n",
       " 'positive',\n",
       " 'negative',\n",
       " 'positive',\n",
       " 'neutral',\n",
       " 'negative',\n",
       " 'positive',\n",
       " 'positive',\n",
       " 'neutral',\n",
       " 'negative',\n",
       " 'neutral',\n",
       " 'neutral',\n",
       " 'negative',\n",
       " 'neutral',\n",
       " 'neutral',\n",
       " 'positive',\n",
       " 'neutral',\n",
       " 'negative',\n",
       " 'neutral',\n",
       " 'negative',\n",
       " 'neutral',\n",
       " 'neutral',\n",
       " 'positive',\n",
       " 'positive',\n",
       " 'neutral',\n",
       " 'negative',\n",
       " 'negative',\n",
       " 'positive',\n",
       " 'neutral',\n",
       " 'positive',\n",
       " 'positive',\n",
       " 'positive',\n",
       " 'positive',\n",
       " 'positive',\n",
       " 'neutral',\n",
       " 'positive',\n",
       " 'neutral',\n",
       " 'positive',\n",
       " 'neutral',\n",
       " 'negative',\n",
       " 'positive',\n",
       " 'negative',\n",
       " 'positive',\n",
       " 'positive',\n",
       " 'neutral',\n",
       " 'neutral',\n",
       " 'neutral',\n",
       " 'positive',\n",
       " 'positive',\n",
       " 'positive',\n",
       " 'neutral',\n",
       " 'positive',\n",
       " 'positive',\n",
       " 'negative',\n",
       " 'neutral',\n",
       " 'neutral',\n",
       " 'neutral',\n",
       " 'negative',\n",
       " 'positive',\n",
       " 'negative',\n",
       " 'neutral',\n",
       " 'neutral',\n",
       " 'positive',\n",
       " 'positive',\n",
       " 'positive',\n",
       " 'positive',\n",
       " 'positive',\n",
       " 'positive',\n",
       " 'positive',\n",
       " 'positive',\n",
       " 'negative',\n",
       " 'positive',\n",
       " 'negative',\n",
       " 'positive',\n",
       " 'positive',\n",
       " 'positive',\n",
       " 'positive',\n",
       " 'positive',\n",
       " 'positive',\n",
       " 'positive',\n",
       " 'positive',\n",
       " 'neutral',\n",
       " 'negative',\n",
       " 'positive',\n",
       " 'positive',\n",
       " 'positive',\n",
       " 'neutral',\n",
       " 'positive',\n",
       " 'positive',\n",
       " 'neutral',\n",
       " 'positive',\n",
       " 'positive',\n",
       " 'positive',\n",
       " 'negative',\n",
       " 'neutral',\n",
       " 'negative',\n",
       " 'negative',\n",
       " 'positive',\n",
       " 'positive',\n",
       " 'positive',\n",
       " 'positive',\n",
       " 'neutral',\n",
       " 'neutral',\n",
       " 'negative',\n",
       " 'negative',\n",
       " 'negative',\n",
       " 'positive',\n",
       " 'positive',\n",
       " 'positive',\n",
       " 'positive',\n",
       " 'neutral',\n",
       " 'neutral',\n",
       " 'neutral',\n",
       " 'neutral',\n",
       " 'negative',\n",
       " 'positive',\n",
       " 'positive',\n",
       " 'positive',\n",
       " 'positive',\n",
       " 'positive',\n",
       " 'positive',\n",
       " 'neutral',\n",
       " 'positive',\n",
       " 'negative',\n",
       " 'positive',\n",
       " 'positive',\n",
       " 'negative',\n",
       " 'negative',\n",
       " 'negative',\n",
       " 'negative',\n",
       " 'neutral',\n",
       " 'negative',\n",
       " 'positive',\n",
       " 'neutral',\n",
       " 'negative',\n",
       " 'positive',\n",
       " 'negative',\n",
       " 'positive',\n",
       " 'positive',\n",
       " 'negative',\n",
       " 'neutral',\n",
       " 'positive',\n",
       " 'neutral',\n",
       " 'negative',\n",
       " 'positive',\n",
       " 'positive',\n",
       " 'negative',\n",
       " 'negative',\n",
       " 'neutral',\n",
       " 'neutral',\n",
       " 'positive',\n",
       " 'neutral',\n",
       " 'positive',\n",
       " 'positive',\n",
       " 'positive',\n",
       " 'positive',\n",
       " 'neutral',\n",
       " 'positive',\n",
       " 'negative',\n",
       " 'neutral',\n",
       " 'positive',\n",
       " 'negative',\n",
       " 'positive',\n",
       " 'positive',\n",
       " 'positive',\n",
       " 'negative',\n",
       " 'positive',\n",
       " 'positive',\n",
       " 'positive',\n",
       " 'neutral',\n",
       " 'negative',\n",
       " 'positive',\n",
       " 'negative',\n",
       " 'negative',\n",
       " 'neutral',\n",
       " 'negative',\n",
       " 'positive',\n",
       " 'negative',\n",
       " 'positive',\n",
       " 'positive',\n",
       " 'positive',\n",
       " 'positive',\n",
       " 'neutral',\n",
       " 'positive',\n",
       " 'negative',\n",
       " 'negative',\n",
       " 'neutral',\n",
       " 'neutral',\n",
       " 'positive',\n",
       " 'neutral',\n",
       " 'positive',\n",
       " 'positive',\n",
       " 'negative',\n",
       " 'positive',\n",
       " 'positive',\n",
       " 'positive',\n",
       " 'positive',\n",
       " 'positive',\n",
       " 'positive',\n",
       " 'positive',\n",
       " 'negative',\n",
       " 'negative',\n",
       " 'positive',\n",
       " 'positive',\n",
       " 'negative',\n",
       " 'positive',\n",
       " 'positive',\n",
       " 'positive',\n",
       " 'positive',\n",
       " 'positive',\n",
       " 'neutral',\n",
       " 'positive',\n",
       " 'negative',\n",
       " 'positive',\n",
       " 'neutral',\n",
       " 'negative',\n",
       " 'positive',\n",
       " 'negative',\n",
       " 'positive',\n",
       " 'positive',\n",
       " 'negative',\n",
       " 'positive',\n",
       " 'positive',\n",
       " 'neutral',\n",
       " 'negative',\n",
       " 'negative',\n",
       " 'neutral',\n",
       " 'positive',\n",
       " 'positive',\n",
       " 'positive',\n",
       " 'negative',\n",
       " 'positive',\n",
       " 'positive',\n",
       " 'neutral',\n",
       " 'neutral',\n",
       " 'negative',\n",
       " 'negative',\n",
       " 'negative',\n",
       " 'positive',\n",
       " 'positive',\n",
       " 'negative',\n",
       " 'neutral',\n",
       " 'positive',\n",
       " 'neutral',\n",
       " 'positive',\n",
       " 'negative',\n",
       " 'neutral',\n",
       " 'negative',\n",
       " 'negative',\n",
       " 'positive',\n",
       " 'negative',\n",
       " 'negative',\n",
       " 'positive',\n",
       " 'positive',\n",
       " 'negative',\n",
       " 'positive',\n",
       " 'positive',\n",
       " 'neutral',\n",
       " 'negative',\n",
       " 'negative',\n",
       " 'positive']"
      ]
     },
     "execution_count": 50,
     "metadata": {},
     "output_type": "execute_result"
    }
   ],
   "source": [
    "sentiment_test"
   ]
  },
  {
   "cell_type": "markdown",
   "metadata": {},
   "source": [
    "# Conclusion\n",
    "This Bidirectional LSTM classifier is capable of performing sentiment analysis with an acceptable accuracy based on the dataset that we tested on. We can further improve the accuracy by training the model with more accurate training sets by having experts to annotate the headlines. Ultimately, the quality of the training sets plays a very important role in determining the accuracy of the model."
   ]
  }
 ],
 "metadata": {
  "interpreter": {
   "hash": "7a28feadcb6e9d305b5ae3c1ca6a6da6d71e6aa7faaaea98f808ab5d9f58ed00"
  },
  "kernelspec": {
   "display_name": "Python 3 (ipykernel)",
   "language": "python",
   "name": "python3"
  },
  "language_info": {
   "codemirror_mode": {
    "name": "ipython",
    "version": 3
   },
   "file_extension": ".py",
   "mimetype": "text/x-python",
   "name": "python",
   "nbconvert_exporter": "python",
   "pygments_lexer": "ipython3",
   "version": "3.9.9"
  }
 },
 "nbformat": 4,
 "nbformat_minor": 2
}
